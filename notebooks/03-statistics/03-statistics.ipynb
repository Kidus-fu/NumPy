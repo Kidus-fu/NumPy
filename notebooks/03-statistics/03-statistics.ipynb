{
 "cells": [
  {
   "cell_type": "markdown",
   "metadata": {},
   "source": [
    "### 03 - Statistics in NumPy\n",
    "\n",
    "In this notebook, we will explore common statistical operations using NumPy, which will help you summarize and understand data distributions."
   ]
  },
  {
   "cell_type": "markdown",
   "metadata": {},
   "source": [
    "### 1\\. **Mean (Average)**\n",
    "\n",
    "The **mean** is just the average of all the numbers in a list. It tells you the \"central\" value of your data."
   ]
  },
  {
   "cell_type": "code",
   "execution_count": null,
   "metadata": {},
   "outputs": [],
   "source": [
    "import numpy as np\n",
    "\n",
    "data = np.array([1, 2, 3, 4, 5])\n",
    "\n",
    "# Mean\n",
    "mean_value = np.mean(data)\n",
    "print(f\"Mean: {mean_value}\")"
   ]
  },
  {
   "cell_type": "markdown",
   "metadata": {},
   "source": [
    "### 2\\. **Median**\n",
    "\n",
    "The **median** is the middle value of a sorted list of numbers. If there’s an even number of values, the median is the average of the two middle numbers."
   ]
  },
  {
   "cell_type": "code",
   "execution_count": null,
   "metadata": {},
   "outputs": [],
   "source": [
    "# Median\n",
    "median_value = np.median(data)\n",
    "print(f\"Median: {median_value}\")"
   ]
  },
  {
   "cell_type": "markdown",
   "metadata": {},
   "source": [
    "### 3\\. **Mode (Most Frequent Value)**\n",
    "\n",
    "The **mode** is the number that appears most often in a dataset. If no number repeats, the dataset has **no mode**."
   ]
  },
  {
   "cell_type": "code",
   "execution_count": null,
   "metadata": {},
   "outputs": [],
   "source": [
    "%pip install scipy"
   ]
  },
  {
   "cell_type": "code",
   "execution_count": null,
   "metadata": {},
   "outputs": [],
   "source": [
    "from scipy import stats\n",
    "\n",
    "# Mode\n",
    "mode_value = stats.mode(data)\n",
    "print(f\"Mode: {mode_value.mode[0]}\")"
   ]
  },
  {
   "cell_type": "markdown",
   "metadata": {},
   "source": [
    "### 4\\. **Variance**\n",
    "\n",
    "**Variance** tells you how spread out your data is. If the values in your data are very spread out from the mean, the variance will be high. If they are close to the mean, the variance will be low."
   ]
  },
  {
   "cell_type": "code",
   "execution_count": null,
   "metadata": {},
   "outputs": [],
   "source": [
    "# Variance\n",
    "variance_value = np.var(data)\n",
    "print(f\"Variance: {variance_value}\")"
   ]
  },
  {
   "cell_type": "markdown",
   "metadata": {},
   "source": [
    "### 5\\. **Standard Deviation**\n",
    "\n",
    "The **standard deviation** is just the square root of the variance. It’s another way to measure how spread out the data is, but it’s in the same units as the original data, making it easier to understand."
   ]
  },
  {
   "cell_type": "code",
   "execution_count": null,
   "metadata": {},
   "outputs": [],
   "source": [
    "# Standard Deviation\n",
    "std_dev_value = np.std(data)\n",
    "print(f\"Standard Deviation: {std_dev_value}\")"
   ]
  },
  {
   "cell_type": "markdown",
   "metadata": {},
   "source": [
    "### 6\\. **Minimum and Maximum**\n",
    "\n",
    "The **minimum** is the smallest number, and the **maximum** is the largest number in a dataset."
   ]
  },
  {
   "cell_type": "code",
   "execution_count": null,
   "metadata": {},
   "outputs": [],
   "source": [
    "# Minimum and Maximum\n",
    "min_value = np.min(data)\n",
    "max_value = np.max(data)\n",
    "\n",
    "print(f\"Minimum: {min_value}\")\n",
    "print(f\"Maximum: {max_value}\")"
   ]
  },
  {
   "cell_type": "markdown",
   "metadata": {},
   "source": [
    "### 7\\. **Percentiles**\n",
    "\n",
    "A **percentile** tells you the value below which a certain percentage of your data lies. For example, the **50th percentile** is the **median**, which is the middle value."
   ]
  },
  {
   "cell_type": "code",
   "execution_count": null,
   "metadata": {},
   "outputs": [],
   "source": [
    "# Percentile (e.g., 25th, 50th, 75th)\n",
    "percentile_25 = np.percentile(data, 25)\n",
    "percentile_50 = np.percentile(data, 50)\n",
    "percentile_75 = np.percentile(data, 75)\n",
    "\n",
    "print(f\"25th Percentile: {percentile_25}\")\n",
    "print(f\"50th Percentile (Median): {percentile_50}\")\n",
    "print(f\"75th Percentile: {percentile_75}\")"
   ]
  },
  {
   "cell_type": "markdown",
   "metadata": {},
   "source": [
    "### 8\\. **Correlation**\n",
    "\n",
    "**Correlation** tells you how two sets of data are related. If two sets of data have a high correlation, it means when one set increases, the other tends to increase as well (or decrease, depending on the type of correlation)."
   ]
  },
  {
   "cell_type": "code",
   "execution_count": 13,
   "metadata": {},
   "outputs": [
    {
     "name": "stdout",
     "output_type": "stream",
     "text": [
      "Correlation Coefficient:\n",
      "[[ 1. -1.]\n",
      " [-1.  1.]]\n"
     ]
    }
   ],
   "source": [
    "data_2 = np.array([5, 4, 3, 2, 1])\n",
    "\n",
    "# Correlation coefficient\n",
    "correlation = np.corrcoef(data, data_2)\n",
    "print(f\"Correlation Coefficient:\\n{correlation}\")"
   ]
  },
  {
   "cell_type": "markdown",
   "metadata": {},
   "source": [
    "### 9\\. **Cumulative Sum**\n",
    "\n",
    "The **cumulative sum** is the running total of the values. It gives you a sense of how the sum changes as you move through the data."
   ]
  },
  {
   "cell_type": "code",
   "execution_count": null,
   "metadata": {},
   "outputs": [],
   "source": [
    "# Cumulative Sum\n",
    "cumsum_value = np.cumsum(data)\n",
    "print(f\"Cumulative Sum: {cumsum_value}\")"
   ]
  }
 ],
 "metadata": {
  "kernelspec": {
   "display_name": "Python 3",
   "language": "python",
   "name": "python3"
  },
  "language_info": {
   "codemirror_mode": {
    "name": "ipython",
    "version": 3
   },
   "file_extension": ".py",
   "mimetype": "text/x-python",
   "name": "python",
   "nbconvert_exporter": "python",
   "pygments_lexer": "ipython3",
   "version": "3.12.6"
  }
 },
 "nbformat": 4,
 "nbformat_minor": 2
}
