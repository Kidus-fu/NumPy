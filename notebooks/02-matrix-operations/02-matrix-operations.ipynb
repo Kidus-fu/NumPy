{
 "cells": [
  {
   "cell_type": "markdown",
   "metadata": {},
   "source": [
    "## **02 - Matrix Operations in Numpy**\n",
    "\n",
    "In this notebook, we will explore how to perform basic and advanced matrix operations using NumPy. Matrices are a fundamental part of data manipulation, machine learning, and linear algebra."
   ]
  },
  {
   "cell_type": "markdown",
   "metadata": {},
   "source": [
    "### **1\\. Creating Matrices**\n",
    "\n",
    "A matrix in NumPy is simply a 2D array.\n",
    "\n",
    "#### **Examples:**"
   ]
  },
  {
   "cell_type": "code",
   "execution_count": null,
   "metadata": {},
   "outputs": [],
   "source": [
    "%pip install numpy"
   ]
  },
  {
   "cell_type": "code",
   "execution_count": null,
   "metadata": {},
   "outputs": [],
   "source": [
    "import numpy as np\n",
    "\n",
    "# Creating a matrix\n",
    "matrix_a = np.array([[1, 2, 3], [4, 5, 6], [7, 8, 9]])\n",
    "print(\"Matrix A:\\n\", matrix_a)\n",
    "\n",
    "# Creating a matrix of zeros\n",
    "zeros_matrix = np.zeros((3, 3))\n",
    "print(\"Zeros Matrix:\\n\", zeros_matrix)\n",
    "\n",
    "# Creating a matrix of ones\n",
    "ones_matrix = np.ones((2, 4))\n",
    "print(\"Ones Matrix:\\n\", ones_matrix)\n",
    "\n",
    "# Creating an identity matrix\n",
    "identity_matrix = np.eye(3)\n",
    "print(\"Identity Matrix:\\n\", identity_matrix)"
   ]
  },
  {
   "cell_type": "markdown",
   "metadata": {},
   "source": [
    "### **2\\. Basic Matrix Operations**\n",
    "\n",
    "#### **Addition and Subtraction**"
   ]
  },
  {
   "cell_type": "code",
   "execution_count": null,
   "metadata": {},
   "outputs": [],
   "source": [
    "matrix_b = np.array([[9, 8, 7], [6, 5, 4], [3, 2, 1]])\n",
    "\n",
    "# Matrix addition\n",
    "result_add = matrix_a + matrix_b\n",
    "print(\"Matrix Addition:\\n\", result_add)\n",
    "\n",
    "# Matrix subtraction\n",
    "result_sub = matrix_a - matrix_b\n",
    "print(\"Matrix Subtraction:\\n\", result_sub)"
   ]
  },
  {
   "cell_type": "markdown",
   "metadata": {},
   "source": [
    " **Element-wise Multiplication**"
   ]
  },
  {
   "cell_type": "code",
   "execution_count": 8,
   "metadata": {},
   "outputs": [
    {
     "name": "stdout",
     "output_type": "stream",
     "text": [
      "Element-wise Multiplication:\n",
      " [[ 9 16 21]\n",
      " [24 25 24]\n",
      " [21 16  9]]\n"
     ]
    }
   ],
   "source": [
    "result_mul = matrix_a * matrix_b\n",
    "\n",
    "print(\"Element-wise Multiplication:\\n\", result_mul)"
   ]
  },
  {
   "cell_type": "markdown",
   "metadata": {},
   "source": [
    "### **3\\. Matrix Multiplication**\n",
    "\n",
    "#### **Dot Product**\n",
    "Matrix multiplication involves the dot product of rows and columns."
   ]
  },
  {
   "cell_type": "code",
   "execution_count": null,
   "metadata": {},
   "outputs": [],
   "source": [
    "result_dot = np.dot(matrix_a,matrix_b)\n",
    "print(\"Matrix Multiplication (Dot Product):\\n\", result_dot)"
   ]
  },
  {
   "cell_type": "markdown",
   "metadata": {},
   "source": [
    "#### **@ Operator (Preferred for Matrix Multiplication)**"
   ]
  },
  {
   "cell_type": "code",
   "execution_count": 7,
   "metadata": {},
   "outputs": [
    {
     "name": "stdout",
     "output_type": "stream",
     "text": [
      "Matrix Multiplication (@ Operator):\n",
      " [[ 30  24  18]\n",
      " [ 84  69  54]\n",
      " [138 114  90]]\n"
     ]
    }
   ],
   "source": [
    "# Using @ operator for matrix multiplication\n",
    "result_at = matrix_a @ matrix_b\n",
    "print(\"Matrix Multiplication (@ Operator):\\n\", result_at)"
   ]
  },
  {
   "cell_type": "markdown",
   "metadata": {},
   "source": [
    "### **4\\. Transpose of a Matrix**\n",
    "\n",
    "The transpose of a matrix flips it over its diagonal, interchanging rows and columns."
   ]
  },
  {
   "cell_type": "code",
   "execution_count": null,
   "metadata": {},
   "outputs": [],
   "source": [
    "# Transpose of a matrix\n",
    "transpose_a = matrix_a.T\n",
    "print(\"Transpose of Matrix A:\\n\", transpose_a)"
   ]
  },
  {
   "cell_type": "markdown",
   "metadata": {},
   "source": [
    "### **5\\. Determinant of a Matrix**\n",
    "\n",
    "The determinant is a scalar value that can be computed from the elements of a square matrix."
   ]
  },
  {
   "cell_type": "code",
   "execution_count": null,
   "metadata": {},
   "outputs": [],
   "source": [
    "from numpy.linalg import det\n",
    "\n",
    "# Determinant of a matrix\n",
    "det_a = det(matrix_a)\n",
    "print(\"Determinant of Matrix A:\", det_a)"
   ]
  },
  {
   "cell_type": "markdown",
   "metadata": {},
   "source": [
    "### **6\\. Inverse of a Matrix**\n",
    "\n",
    "The inverse of a matrix exists only for square matrices with a non-zero determinant."
   ]
  },
  {
   "cell_type": "code",
   "execution_count": null,
   "metadata": {},
   "outputs": [],
   "source": [
    "from numpy.linalg import inv\n",
    "\n",
    "# Inverse of a matrix\n",
    "matrix_c = np.array([[4, 7], [2, 6]])\n",
    "inverse_c = inv(matrix_c)\n",
    "print(\"Matrix C:\\n\", matrix_c)\n",
    "print(\"Inverse of Matrix C:\\n\", inverse_c)"
   ]
  },
  {
   "cell_type": "markdown",
   "metadata": {},
   "source": [
    "### **7\\. Eigenvalues and Eigenvectors**\n",
    "\n",
    "Eigenvalues and eigenvectors are fundamental concepts in linear algebra."
   ]
  },
  {
   "cell_type": "code",
   "execution_count": null,
   "metadata": {},
   "outputs": [],
   "source": [
    "from numpy.linalg import eig\n",
    "\n",
    "# Eigenvalues and eigenvectors\n",
    "eigenvalues, eigenvectors = eig(matrix_a)\n",
    "print(\"Eigenvalues:\\n\", eigenvalues)\n",
    "print(\"Eigenvectors:\\n\", eigenvectors)"
   ]
  },
  {
   "cell_type": "markdown",
   "metadata": {},
   "source": [
    "### **7\\. Eigenvalues and Eigenvectors**\n",
    "\n",
    "Eigenvalues and eigenvectors are fundamental concepts in linear algebra."
   ]
  },
  {
   "cell_type": "code",
   "execution_count": null,
   "metadata": {},
   "outputs": [],
   "source": [
    "from numpy.linalg import solve\n",
    "\n",
    "# Coefficient matrix (A)\n",
    "A = np.array([[3, 1], [1, 2]])\n",
    "\n",
    "# Constant matrix (B)\n",
    "B = np.array([9, 8])\n",
    "\n",
    "# Solving for X\n",
    "X = solve(A, B)\n",
    "print(\"Solution X:\", X)"
   ]
  },
  {
   "cell_type": "markdown",
   "metadata": {},
   "source": [
    "### **8\\. Solving a System of Linear Equations**\n",
    "\n",
    "You can solve equations of the form AX=BAX = BAX=B where AAA is a matrix, BBB is a vector, and XXX is the unknown."
   ]
  },
  {
   "cell_type": "code",
   "execution_count": null,
   "metadata": {},
   "outputs": [],
   "source": [
    "from numpy.linalg import solve\n",
    "\n",
    "# Coefficient matrix (A)\n",
    "A = np.array([[3, 1], [1, 2]])\n",
    "\n",
    "# Constant matrix (B)\n",
    "B = np.array([9, 8])\n",
    "\n",
    "# Solving for X\n",
    "X = solve(A, B)\n",
    "print(\"Solution X:\", X)"
   ]
  },
  {
   "cell_type": "markdown",
   "metadata": {},
   "source": [
    "### **9\\. Other Useful Linear Algebra Functions**\n",
    "\n",
    "*   **Matrix Rank**: Determines the rank of a matrix.\n",
    "*   **Trace**: Sum of diagonal elements."
   ]
  },
  {
   "cell_type": "code",
   "execution_count": 18,
   "metadata": {},
   "outputs": [
    {
     "name": "stdout",
     "output_type": "stream",
     "text": [
      "Coefficients (theta): [-1.77635684e-15  1.00000000e+00]\n"
     ]
    }
   ],
   "source": [
    "# Example data\n",
    "X = np.array([[1, 1], [1, 2], [1, 3]])\n",
    "y = np.array([1, 2, 3])\n",
    "\n",
    "# Normal equation\n",
    "theta = inv(X.T @ X) @ X.T @ y\n",
    "print(\"Coefficients (theta):\", theta)"
   ]
  }
 ],
 "metadata": {
  "kernelspec": {
   "display_name": "Python 3",
   "language": "python",
   "name": "python3"
  },
  "language_info": {
   "codemirror_mode": {
    "name": "ipython",
    "version": 3
   },
   "file_extension": ".py",
   "mimetype": "text/x-python",
   "name": "python",
   "nbconvert_exporter": "python",
   "pygments_lexer": "ipython3",
   "version": "3.12.6"
  }
 },
 "nbformat": 4,
 "nbformat_minor": 2
}
