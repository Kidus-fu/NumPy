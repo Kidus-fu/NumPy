{
 "cells": [
  {
   "cell_type": "markdown",
   "metadata": {},
   "source": [
    "Project: Weather Data Analysis\n",
    "\n",
    "We'll analyze a small dataset of daily temperature readings collected in real-time from a hypothetical sensor."
   ]
  },
  {
   "cell_type": "markdown",
   "metadata": {},
   "source": [
    "Steps to Follow\n",
    "\n",
    "1. Simulate Real-Time Data\n",
    "\n",
    "We’ll generate synthetic weather data (e.g., temperature in °C) for 7 days, including missing values."
   ]
  },
  {
   "cell_type": "code",
   "execution_count": null,
   "metadata": {},
   "outputs": [],
   "source": [
    "import numpy as np"
   ]
  },
  {
   "cell_type": "code",
   "execution_count": null,
   "metadata": {},
   "outputs": [],
   "source": [
    "\n",
    "# Simulated temperature data for 7 days (some missing values)\n",
    "temperature_data = np.array([20.5, 22.3, np.nan, 19.8, 21.1, 25.4, np.nan])\n",
    "print(\"Original Temperature Data:\", temperature_data)"
   ]
  },
  {
   "cell_type": "markdown",
   "metadata": {},
   "source": [
    "2. Handle Missing Data\n",
    "\n",
    "Replace missing values (NaN) with the mean temperature."
   ]
  },
  {
   "cell_type": "code",
   "execution_count": null,
   "metadata": {},
   "outputs": [],
   "source": [
    "mean_temp = np.nanmean(temperature_data)\n",
    "temperature_data = np.where(np.isnan(temperature_data), mean_temp,temperature_data)\n",
    "print(\"Temperature Data After Filling Missing Values:\",temperature_data)"
   ]
  },
  {
   "cell_type": "markdown",
   "metadata": {},
   "source": [
    "3. Detect Outliers\n",
    "\n",
    "Detect extreme outliers using the Z-score method."
   ]
  },
  {
   "cell_type": "code",
   "execution_count": null,
   "metadata": {},
   "outputs": [],
   "source": [
    "# Compute Z-scores\n",
    "z_scores = (temperature_data - np.mean(temperature_data)) / np.std(temperature_data)\n",
    "\n",
    "# Identify outliers (Z-score > 2 or < -2)\n",
    "outliers = np.abs(z_scores) > 2\n",
    "print(\"Outliers Detected:\", temperature_data[outliers])"
   ]
  },
  {
   "cell_type": "markdown",
   "metadata": {},
   "source": [
    "4. Normalize the Data\n",
    "\n",
    "Scale temperatures to a range of [0, 1]."
   ]
  },
  {
   "cell_type": "code",
   "execution_count": null,
   "metadata": {},
   "outputs": [],
   "source": [
    "# Min-max normalization\n",
    "min_temp = np.min(temperature_data)\n",
    "max_temp = np.max(temperature_data)\n",
    "normalized_temps = (temperature_data - min_temp) / (max_temp - min_temp)\n",
    "print(\"Normalized Temperature Data:\", normalized_temps)"
   ]
  },
  {
   "cell_type": "markdown",
   "metadata": {},
   "source": [
    "5. Analyze Trends\n",
    "\n",
    "Compute basic statistics like average, maximum, and minimum temperature."
   ]
  },
  {
   "cell_type": "code",
   "execution_count": null,
   "metadata": {},
   "outputs": [],
   "source": [
    "# Statistical analysis\n",
    "average_temp = np.mean(temperature_data)\n",
    "max_temp = np.max(temperature_data)\n",
    "min_temp = np.min(temperature_data)\n",
    "\n",
    "print(f\"Average Temperature: {average_temp:.2f} °C\")\n",
    "print(f\"Maximum Temperature: {max_temp:.2f} °C\")\n",
    "print(f\"Minimum Temperature: {min_temp:.2f} °C\")"
   ]
  }
 ],
 "metadata": {
  "kernelspec": {
   "display_name": "Python 3",
   "language": "python",
   "name": "python3"
  },
  "language_info": {
   "codemirror_mode": {
    "name": "ipython",
    "version": 3
   },
   "file_extension": ".py",
   "mimetype": "text/x-python",
   "name": "python",
   "nbconvert_exporter": "python",
   "pygments_lexer": "ipython3",
   "version": "3.12.6"
  }
 },
 "nbformat": 4,
 "nbformat_minor": 2
}
