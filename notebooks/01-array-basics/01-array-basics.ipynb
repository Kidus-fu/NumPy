{
 "cells": [
  {
   "cell_type": "markdown",
   "metadata": {},
   "source": [
    "# **This is base of array in NumPy 1D,2D,3D array and Some Functions**\n",
    "\n",
    "## **1D Arrays in NumPy**\n",
    "\n",
    "A 1D array is essentially a list of elements. It has only one axis.\n",
    "\n",
    "### **Example: Creating a 1D Array**"
   ]
  },
  {
   "cell_type": "code",
   "execution_count": null,
   "metadata": {},
   "outputs": [],
   "source": [
    "%pip install numpy"
   ]
  },
  {
   "cell_type": "code",
   "execution_count": null,
   "metadata": {},
   "outputs": [],
   "source": [
    "import numpy as np \n",
    "\n",
    "#Create a 1D array \n",
    "array_1d = np.array([1, 2, 3, 4, 5])\n",
    "\n",
    "print(\"1D Array:\",array_1d)\n",
    "\n",
    "#Shape of the array\n",
    "print(\"Shape:\",array_1d.shape)\n",
    "\n",
    "#Accessing elements \n",
    "print(\"The First Element:\", array_1d[0])\n",
    "print(\"The List Element:\", array_1d[-1])"
   ]
  },
  {
   "cell_type": "markdown",
   "metadata": {},
   "source": [
    "## **2D Arrays in NumPy**\n",
    "\n",
    "A 2D array is a grid or a matrix. It has two axes (rows and columns).\n",
    "\n",
    "### **Example: Creating a 2D Array**"
   ]
  },
  {
   "cell_type": "code",
   "execution_count": null,
   "metadata": {},
   "outputs": [],
   "source": [
    "#Create a 2D \n",
    "\n",
    "array_2d = np.array([\n",
    "    [1, 2, 3],\n",
    "    [4, 5, 6],\n",
    "    [7, 8, 9]\n",
    "])\n",
    "\n",
    "print(\"2D Array:\\n\", array_2d)\n",
    "\n",
    "# Shape of the array \n",
    "print(\"Shape:\", array_2d.shape)\n",
    " \n",
    "# Accessing elements \n",
    "print(\"Element at (0, 0):\", array_2d[0, 0])\n",
    "print(\"Row 1:\", array_2d[0]) \n",
    "\n",
    "print(\"Column 2:\", array_2d[:, 1])"
   ]
  },
  {
   "cell_type": "markdown",
   "metadata": {},
   "source": [
    "## **3D Arrays in NumPy**\n",
    "\n",
    "A 3D array is a collection of matrices stacked together. It has three axes.\n",
    "\n",
    "### **Example: Creating a 3D Array**"
   ]
  },
  {
   "cell_type": "code",
   "execution_count": null,
   "metadata": {},
   "outputs": [],
   "source": [
    "# Creating a 3D array\n",
    "array_3d = np.array([\n",
    "    [[1, 2, 3], [4, 5, 6]],\n",
    "    [[7, 8, 9], [10, 11, 12]]\n",
    "])\n",
    "print(\"3D Array:\\n\", array_3d)\n",
    "\n",
    "# Shape of the array\n",
    "print(\"Shape:\", array_3d.shape)\n",
    "\n",
    "# Accessing elements\n",
    "print(\"Element at (0, 1, 2):\", array_3d[0, 1, 2])  # 6"
   ]
  },
  {
   "cell_type": "markdown",
   "metadata": {},
   "source": [
    "## **Key NumPy Array Functions**\n",
    "\n",
    "### **1\\. Reshaping Arrays**\n",
    "\n",
    "Reshape arrays to change their dimensions."
   ]
  },
  {
   "cell_type": "code",
   "execution_count": null,
   "metadata": {},
   "outputs": [],
   "source": [
    "reshaped = np.array([1, 2, 3, 4, 5, 6]).reshape(2,3)\n",
    "\n",
    "print(\"Reshaped Array:\\n\",reshaped)"
   ]
  },
  {
   "cell_type": "markdown",
   "metadata": {},
   "source": [
    "### **2\\. Basic Mathematical Operations**\n",
    "\n",
    "Perform element-wise operations."
   ]
  },
  {
   "cell_type": "code",
   "execution_count": null,
   "metadata": {},
   "outputs": [],
   "source": [
    "array = np.array([1, 2, 3])\n",
    "\n",
    "print(\"Array + 10\",array + 10)  # Add 10 to each element \n",
    "print(\"Array * 2\",array * 2)  # Multiply each element by 2"
   ]
  },
  {
   "cell_type": "markdown",
   "metadata": {},
   "source": [
    "### **3\\. Statistical Functions**\n",
    "\n",
    "Compute basic statistics."
   ]
  },
  {
   "cell_type": "code",
   "execution_count": 8,
   "metadata": {},
   "outputs": [
    {
     "name": "stdout",
     "output_type": "stream",
     "text": [
      "Mean: 3.0\n",
      "Sum: 15\n",
      "Max: 5\n",
      "Min: 1\n"
     ]
    }
   ],
   "source": [
    "array = np.array([1, 2, 3, 4, 5])\n",
    "print(\"Mean:\", np.mean(array))\n",
    "print(\"Sum:\", np.sum(array))\n",
    "print(\"Max:\", np.max(array))\n",
    "print(\"Min:\", np.min(array))"
   ]
  },
  {
   "cell_type": "markdown",
   "metadata": {},
   "source": [
    "### **4\\. Broadcasting**\n",
    "\n",
    "Broadcast smaller arrays to larger ones."
   ]
  },
  {
   "cell_type": "code",
   "execution_count": null,
   "metadata": {},
   "outputs": [],
   "source": [
    "array = np.array([[1, 2, 3], [4, 5, 6]])\n",
    "print(\"Broadcasting with scalar:\\n\", array + 10)"
   ]
  },
  {
   "cell_type": "markdown",
   "metadata": {},
   "source": [
    "### **5\\. Slicing and Indexing**\n",
    "\n",
    "Access subarrays or elements"
   ]
  },
  {
   "cell_type": "code",
   "execution_count": null,
   "metadata": {},
   "outputs": [],
   "source": [
    "array = np.array([1, 2, 3, 4, 5])\n",
    "print(\"Slice [1:4]:\", array[1:4])  # Get elements from index 1 to 3"
   ]
  },
  {
   "cell_type": "markdown",
   "metadata": {},
   "source": [
    "### **6\\. Creating Special Arrays**"
   ]
  },
  {
   "cell_type": "code",
   "execution_count": null,
   "metadata": {},
   "outputs": [],
   "source": [
    "# Array of zeros\n",
    "zeros = np.zeros((2, 3))\n",
    "print(\"Zeros:\\n\", zeros)\n",
    "\n",
    "# Array of ones\n",
    "ones = np.ones((3, 3))\n",
    "print(\"Ones:\\n\", ones)\n",
    "\n",
    "# Identity matrix\n",
    "identity = np.eye(3)\n",
    "print(\"Identity Matrix:\\n\", identity)\n",
    "\n",
    "# Random array\n",
    "random_array = np.random.rand(3, 3)\n",
    "print(\"Random Array:\\n\", random_array)"
   ]
  }
 ],
 "metadata": {
  "kernelspec": {
   "display_name": "Python 3",
   "language": "python",
   "name": "python3"
  },
  "language_info": {
   "codemirror_mode": {
    "name": "ipython",
    "version": 3
   },
   "file_extension": ".py",
   "mimetype": "text/x-python",
   "name": "python",
   "nbconvert_exporter": "python",
   "pygments_lexer": "ipython3",
   "version": "3.12.6"
  }
 },
 "nbformat": 4,
 "nbformat_minor": 2
}
